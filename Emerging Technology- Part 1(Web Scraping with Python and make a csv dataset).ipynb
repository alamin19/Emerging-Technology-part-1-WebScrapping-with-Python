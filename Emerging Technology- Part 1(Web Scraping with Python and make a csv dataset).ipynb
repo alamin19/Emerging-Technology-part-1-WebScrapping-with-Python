{
 "cells": [
  {
   "cell_type": "code",
   "execution_count": 107,
   "metadata": {},
   "outputs": [],
   "source": [
    "import requests   \n",
    "from bs4 import BeautifulSoup"
   ]
  },
  {
   "cell_type": "code",
   "execution_count": 108,
   "metadata": {},
   "outputs": [
    {
     "name": "stdout",
     "output_type": "stream",
     "text": [
      "3\n"
     ]
    }
   ],
   "source": [
    "r = requests.get(\"https://www.pythonhow.com/real-estate/rock-springs-wy/LCWYROCKSPRINGS/\")\n",
    "c =  r.content\n",
    "\n",
    "\n",
    "soup = BeautifulSoup(c)\n",
    "# print(soup.prettify())\n",
    "\n",
    "all = soup.find_all(\"div\",{\"class\":\"propertyRow\"})\n",
    "\n",
    "\n",
    "\n",
    "pgnbr=  soup.find_all(\"a\",{\"class\":\"Page\"})[-1].text\n",
    "print(pgnbr)\n"
   ]
  },
  {
   "cell_type": "code",
   "execution_count": 109,
   "metadata": {},
   "outputs": [
    {
     "name": "stdout",
     "output_type": "stream",
     "text": [
      "https://www.pythonhow.com/real-estate/rock-springs-wy/LCWYROCKSPRINGS/t=0&s=0.html\n"
     ]
    },
    {
     "name": "stderr",
     "output_type": "stream",
     "text": [
      "/Users/Amin/anaconda3/lib/python3.6/site-packages/bs4/__init__.py:181: UserWarning: No parser was explicitly specified, so I'm using the best available HTML parser for this system (\"lxml\"). This usually isn't a problem, but if you run this code on another system, or in a different virtual environment, it may use a different parser and behave differently.\n",
      "\n",
      "The code that caused this warning is on line 193 of the file /Users/Amin/anaconda3/lib/python3.6/runpy.py. To get rid of this warning, change code that looks like this:\n",
      "\n",
      " BeautifulSoup(YOUR_MARKUP})\n",
      "\n",
      "to this:\n",
      "\n",
      " BeautifulSoup(YOUR_MARKUP, \"lxml\")\n",
      "\n",
      "  markup_type=markup_type))\n"
     ]
    },
    {
     "name": "stdout",
     "output_type": "stream",
     "text": [
      "https://www.pythonhow.com/real-estate/rock-springs-wy/LCWYROCKSPRINGS/t=0&s=10.html\n",
      "https://www.pythonhow.com/real-estate/rock-springs-wy/LCWYROCKSPRINGS/t=0&s=20.html\n"
     ]
    }
   ],
   "source": [
    "base_url =  \"https://www.pythonhow.com/real-estate/rock-springs-wy/LCWYROCKSPRINGS/t=0&s=\"\n",
    "\n",
    "list=[]\n",
    "\n",
    "for page in range(0, int(pgnbr)*10, 10):\n",
    "    print(base_url+str(page)+\".html\")\n",
    "    r = requests.get(base_url+str(page)+\".html\")\n",
    "    c = r.content\n",
    "    soup= BeautifulSoup(c)\n",
    "    all = soup.find_all(\"div\", {\"class\":\"propertyRow\"})\n",
    "    \n",
    "\n",
    "\n",
    "\n",
    "    for each in all:\n",
    "        d={}\n",
    "\n",
    "        d[\"price\"]= each.find(\"h4\",{\"class\":\"propPrice\"}).text.replace(\"\\n\",\"\").replace(\" \", \"\")\n",
    "        d[\"address\"] =each.find_all(\"span\",{\"class\":\"propAddressCollapse\"})[0].text\n",
    "        try:\n",
    "            d[\"locality\"] = each.find_all(\"span\",{\"class\":\"propAddressCollapse\"})[1].text\n",
    "        except:\n",
    "            d[\"locality\"] = None\n",
    "\n",
    "        try:\n",
    "            d[\"area\"]=each.find(\"span\",{\"class\":\"infoSqFt\"}).find(\"b\").text\n",
    "        except:\n",
    "            d[\"area\"]= None\n",
    "\n",
    "        try:\n",
    "            d[\"beds\"]=each.find(\"span\",{\"class\":\"infoBed\"}).find(\"b\").text\n",
    "        except:\n",
    "            d[\"beds\"]=None\n",
    "\n",
    "        try:\n",
    "            d[\"fullbaths\"]=each.find(\"span\",{\"class\":\"infoValueFullBath\"}).find(\"b\").text\n",
    "        except:\n",
    "            d[\"fullbaths\"] = None\n",
    "        try:\n",
    "            d[\"halfbaths\"]=each.find(\"span\",{\"class\":\"infoValueHalfBath\"}).find(\"b\").text\n",
    "        except:\n",
    "            d[\"halfbaths\"]=None\n",
    "        for column_group in each.find_all(\"div\",{\"class\":\"columnGroup\"}):\n",
    "            for feature_group, feature_name in zip(column_group.find_all(\"span\",{\"class\":\"featureGroup\"}),column_group.find_all(\"span\",{\"class\":\"featureName\"})):\n",
    "                if \"Lot Size\" in feature_group.text:\n",
    "                    d[\"lotsize\"]=feature_name.text\n",
    "\n",
    "\n",
    "        list.append(d)"
   ]
  },
  {
   "cell_type": "code",
   "execution_count": 110,
   "metadata": {},
   "outputs": [
    {
     "data": {
      "text/html": [
       "<div>\n",
       "<style scoped>\n",
       "    .dataframe tbody tr th:only-of-type {\n",
       "        vertical-align: middle;\n",
       "    }\n",
       "\n",
       "    .dataframe tbody tr th {\n",
       "        vertical-align: top;\n",
       "    }\n",
       "\n",
       "    .dataframe thead th {\n",
       "        text-align: right;\n",
       "    }\n",
       "</style>\n",
       "<table border=\"1\" class=\"dataframe\">\n",
       "  <thead>\n",
       "    <tr style=\"text-align: right;\">\n",
       "      <th></th>\n",
       "      <th>address</th>\n",
       "      <th>area</th>\n",
       "      <th>beds</th>\n",
       "      <th>fullbaths</th>\n",
       "      <th>halfbaths</th>\n",
       "      <th>locality</th>\n",
       "      <th>lotsize</th>\n",
       "      <th>price</th>\n",
       "    </tr>\n",
       "  </thead>\n",
       "  <tbody>\n",
       "    <tr>\n",
       "      <th>0</th>\n",
       "      <td>0 Gateway</td>\n",
       "      <td>None</td>\n",
       "      <td>None</td>\n",
       "      <td>None</td>\n",
       "      <td>None</td>\n",
       "      <td>Rock Springs, WY 82901</td>\n",
       "      <td>None</td>\n",
       "      <td>$725,000</td>\n",
       "    </tr>\n",
       "    <tr>\n",
       "      <th>1</th>\n",
       "      <td>1003 Winchester Blvd.</td>\n",
       "      <td>None</td>\n",
       "      <td>4</td>\n",
       "      <td>4</td>\n",
       "      <td>None</td>\n",
       "      <td>Rock Springs, WY 82901</td>\n",
       "      <td>0.21 Acres</td>\n",
       "      <td>$452,900</td>\n",
       "    </tr>\n",
       "    <tr>\n",
       "      <th>2</th>\n",
       "      <td>600 Talladega</td>\n",
       "      <td>3,154</td>\n",
       "      <td>5</td>\n",
       "      <td>3</td>\n",
       "      <td>None</td>\n",
       "      <td>Rock Springs, WY 82901</td>\n",
       "      <td>None</td>\n",
       "      <td>$396,900</td>\n",
       "    </tr>\n",
       "    <tr>\n",
       "      <th>3</th>\n",
       "      <td>3239 Spearhead Way</td>\n",
       "      <td>3,076</td>\n",
       "      <td>4</td>\n",
       "      <td>3</td>\n",
       "      <td>1</td>\n",
       "      <td>Rock Springs, WY 82901</td>\n",
       "      <td>Under 1/2 Acre,</td>\n",
       "      <td>$389,900</td>\n",
       "    </tr>\n",
       "    <tr>\n",
       "      <th>4</th>\n",
       "      <td>522 Emerald Street</td>\n",
       "      <td>1,172</td>\n",
       "      <td>3</td>\n",
       "      <td>3</td>\n",
       "      <td>None</td>\n",
       "      <td>Rock Springs, WY 82901</td>\n",
       "      <td>Under 1/2 Acre,</td>\n",
       "      <td>$254,000</td>\n",
       "    </tr>\n",
       "  </tbody>\n",
       "</table>\n",
       "</div>"
      ],
      "text/plain": [
       "                 address   area  beds fullbaths halfbaths  \\\n",
       "0              0 Gateway   None  None      None      None   \n",
       "1  1003 Winchester Blvd.   None     4         4      None   \n",
       "2          600 Talladega  3,154     5         3      None   \n",
       "3     3239 Spearhead Way  3,076     4         3         1   \n",
       "4     522 Emerald Street  1,172     3         3      None   \n",
       "\n",
       "                 locality           lotsize     price  \n",
       "0  Rock Springs, WY 82901              None  $725,000  \n",
       "1  Rock Springs, WY 82901        0.21 Acres  $452,900  \n",
       "2  Rock Springs, WY 82901              None  $396,900  \n",
       "3  Rock Springs, WY 82901  Under 1/2 Acre,   $389,900  \n",
       "4  Rock Springs, WY 82901  Under 1/2 Acre,   $254,000  "
      ]
     },
     "execution_count": 110,
     "metadata": {},
     "output_type": "execute_result"
    }
   ],
   "source": [
    "import pandas as pd \n",
    "\n",
    "df = pd.DataFrame(list)\n",
    "df=df.fillna(\"None\", axis=1)\n",
    "df.head()"
   ]
  },
  {
   "cell_type": "code",
   "execution_count": 111,
   "metadata": {},
   "outputs": [],
   "source": [
    "df.to_csv(\"out.csv\")"
   ]
  },
  {
   "cell_type": "code",
   "execution_count": null,
   "metadata": {},
   "outputs": [],
   "source": []
  }
 ],
 "metadata": {
  "kernelspec": {
   "display_name": "Python 3",
   "language": "python",
   "name": "python3"
  },
  "language_info": {
   "codemirror_mode": {
    "name": "ipython",
    "version": 3
   },
   "file_extension": ".py",
   "mimetype": "text/x-python",
   "name": "python",
   "nbconvert_exporter": "python",
   "pygments_lexer": "ipython3",
   "version": "3.6.5"
  }
 },
 "nbformat": 4,
 "nbformat_minor": 2
}
